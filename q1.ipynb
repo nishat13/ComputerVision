{
  "nbformat": 4,
  "nbformat_minor": 0,
  "metadata": {
    "colab": {
      "name": "q1.ipynb",
      "provenance": []
    },
    "kernelspec": {
      "name": "python3",
      "display_name": "Python 3"
    },
    "language_info": {
      "name": "python"
    }
  },
  "cells": [
    {
      "cell_type": "code",
      "execution_count": 1,
      "metadata": {
        "colab": {
          "base_uri": "https://localhost:8080/"
        },
        "id": "nLaSdJJvtIVr",
        "outputId": "871dff0f-4230-48b9-c466-fb8fe3db2be5"
      },
      "outputs": [
        {
          "output_type": "stream",
          "name": "stdout",
          "text": [
            "[0, 1, 2, 3, 4, 5, 6, 7, 8, 9]\n"
          ]
        }
      ],
      "source": [
        "lst=[9,6,3,8,5,2,7,4,1,0]\n",
        "for j in range (0,10):\n",
        "  for i in range (0,9):\n",
        "    if lst[i]>lst[i+1]:\n",
        "      swap=lst[i]\n",
        "      lst[i]=lst[i+1]\n",
        "      lst[i+1]=swap\n",
        "print(lst)\n"
      ]
    },
    {
      "cell_type": "code",
      "source": [
        "lst=[9,6,3,8,5,2,7,4,1,0]\n",
        "for j in range (0,10):\n",
        "    for i in range (0):\n",
        "      if lst[i]>lst[i+1]:\n",
        "         swap=lst[i]\n",
        "         lst[i]=lst[i+1]\n",
        "         lst[i+1]=swap\n",
        "print('First output')\n",
        "print(lst)\n",
        "for j in range (0,10):\n",
        "    for i in range (1):\n",
        "      if lst[i]>lst[i+1]:\n",
        "         swap=lst[i]\n",
        "         lst[i]=lst[i+1]\n",
        "         lst[i+1]=swap\n",
        "print('second output')         \n",
        "print(lst)\n",
        "for j in range (0,10):\n",
        "    for i in range (2):\n",
        "      if lst[i]>lst[i+1]:\n",
        "         swap=lst[i]\n",
        "         lst[i]=lst[i+1]\n",
        "         lst[i+1]=swap\n",
        "print('third output')\n",
        "print(lst)\n",
        "for j in range (0,10):\n",
        "    for i in range (3):\n",
        "      if lst[i]>lst[i+1]:\n",
        "         swap=lst[i]\n",
        "         lst[i]=lst[i+1]\n",
        "         lst[i+1]=swap\n",
        "print('forth output')\n",
        "print(lst)\n",
        "for j in range (0,10):\n",
        "    for i in range (4):\n",
        "      if lst[i]>lst[i+1]:\n",
        "         swap=lst[i]\n",
        "         lst[i]=lst[i+1]\n",
        "         lst[i+1]=swap\n",
        "print('Fifth output')\n",
        "print(lst)\n",
        "for j in range (0,10):\n",
        "    for i in range (5):\n",
        "      if lst[i]>lst[i+1]:\n",
        "         swap=lst[i]\n",
        "         lst[i]=lst[i+1]\n",
        "         lst[i+1]=swap\n",
        "print('sixth output')         \n",
        "print(lst)\n",
        "for j in range (0,10):\n",
        "    for i in range (6):\n",
        "      if lst[i]>lst[i+1]:\n",
        "         swap=lst[i]\n",
        "         lst[i]=lst[i+1]\n",
        "         lst[i+1]=swap\n",
        "print('seventh output')\n",
        "print(lst)\n",
        "for j in range (0,10):\n",
        "    for i in range (7):\n",
        "      if lst[i]>lst[i+1]:\n",
        "         swap=lst[i]\n",
        "         lst[i]=lst[i+1]\n",
        "         lst[i+1]=swap\n",
        "print('eighth output')         \n",
        "print(lst)\n",
        "for j in range (0,10):\n",
        "    for i in range (8):\n",
        "      if lst[i]>lst[i+1]:\n",
        "         swap=lst[i]\n",
        "         lst[i]=lst[i+1]\n",
        "         lst[i+1]=swap\n",
        "print('ninth output')         \n",
        "print(lst)\n",
        "for j in range (0,10):\n",
        "    for i in range (9):\n",
        "      if lst[i]>lst[i+1]:\n",
        "         swap=lst[i]\n",
        "         lst[i]=lst[i+1]\n",
        "         lst[i+1]=swap\n",
        "print('final output')\n",
        "print(lst)"
      ],
      "metadata": {
        "colab": {
          "base_uri": "https://localhost:8080/"
        },
        "id": "jDgd4ceZusqH",
        "outputId": "fbf1d542-6430-463d-b00f-ce0123889555"
      },
      "execution_count": 15,
      "outputs": [
        {
          "output_type": "stream",
          "name": "stdout",
          "text": [
            "First output\n",
            "[9, 6, 3, 8, 5, 2, 7, 4, 1, 0]\n",
            "second output\n",
            "[6, 9, 3, 8, 5, 2, 7, 4, 1, 0]\n",
            "third output\n",
            "[3, 6, 9, 8, 5, 2, 7, 4, 1, 0]\n",
            "forth output\n",
            "[3, 6, 8, 9, 5, 2, 7, 4, 1, 0]\n",
            "Fifth output\n",
            "[3, 5, 6, 8, 9, 2, 7, 4, 1, 0]\n",
            "sixth output\n",
            "[2, 3, 5, 6, 8, 9, 7, 4, 1, 0]\n",
            "seventh output\n",
            "[2, 3, 5, 6, 7, 8, 9, 4, 1, 0]\n",
            "eighth output\n",
            "[2, 3, 4, 5, 6, 7, 8, 9, 1, 0]\n",
            "ninth output\n",
            "[1, 2, 3, 4, 5, 6, 7, 8, 9, 0]\n",
            "final output\n",
            "[0, 1, 2, 3, 4, 5, 6, 7, 8, 9]\n"
          ]
        }
      ]
    }
  ]
}