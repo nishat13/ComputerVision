{
  "nbformat": 4,
  "nbformat_minor": 0,
  "metadata": {
    "colab": {
      "name": "Final_assignment(Crossvalidation_on_cifar10).ipynb",
      "provenance": [],
      "collapsed_sections": []
    },
    "kernelspec": {
      "name": "python3",
      "display_name": "Python 3"
    },
    "language_info": {
      "name": "python"
    }
  },
  "cells": [
    {
      "cell_type": "code",
      "source": [
        "import numpy as np\n",
        "import pickle\n",
        "import matplotlib.pyplot as plt"
      ],
      "metadata": {
        "id": "cWHesFHiadAV"
      },
      "execution_count": 18,
      "outputs": []
    },
    {
      "cell_type": "code",
      "source": [
        "for i in range(1,6):\n",
        "    dTrain = \"/content/data_batch_\"+str(i)\n",
        "    with open(dTrain, 'rb') as fo:\n",
        "        dict = pickle.load(fo, encoding='latin1')\n",
        "    dTrain = dict    \n",
        "    dataTrain = np.vstack([dataTrain, dTrain['data']])\n",
        "    labelTrain = np.hstack([labelTrain, dTrain['labels']])\n",
        "\n",
        "dTest = \"/content/test_batch\"\n",
        "with open(dTest, 'rb') as fo:\n",
        "    dict = pickle.load(fo, encoding='latin1')\n",
        "\n",
        "dTest = dict\n",
        "\n",
        "dataTest = dTest['data']\n",
        "labelTest = dTest['labels']\n",
        "labelTest = np.array(labelTest)"
      ],
      "metadata": {
        "id": "T0-cs3dna-oj"
      },
      "execution_count": 38,
      "outputs": []
    },
    {
      "cell_type": "markdown",
      "source": [
        "l1"
      ],
      "metadata": {
        "id": "lt_AJGqVbKsn"
      }
    },
    {
      "cell_type": "code",
      "source": [
        "X_train, Y_train = dataTrain[:1000,:] , labelTrain[:1000]"
      ],
      "metadata": {
        "id": "97URYEOMbGCg"
      },
      "execution_count": 36,
      "outputs": []
    },
    {
      "cell_type": "code",
      "source": [
        "num_folds = 5\n",
        "k_choices = [1, 3, 5, 8, 10, 12, 15, 20, 50, 100]\n",
        "k_accuracy = {}\n",
        "X_train_folds = np.array_split(X_train, num_folds)\n",
        "Y_train_folds = np.array_split(Y_train, num_folds)\n",
        "print(\"length of x_train_folds\", len(X_train_folds))\n",
        "print(\"X_train shape\", type(X_train[0]))\n",
        "print(\"X_train len\", X_train_folds[0].shape)"
      ],
      "metadata": {
        "colab": {
          "base_uri": "https://localhost:8080/"
        },
        "id": "qpPtFuicbOwR",
        "outputId": "43c364c5-a1c1-4cd5-f3bb-a9019b1394b2"
      },
      "execution_count": 43,
      "outputs": [
        {
          "output_type": "stream",
          "name": "stdout",
          "text": [
            "length of x_train_folds 5\n",
            "X_train shape <class 'numpy.ndarray'>\n",
            "X_train len (200, 3072)\n"
          ]
        }
      ]
    },
    {
      "cell_type": "code",
      "source": [
        "for k in k_choices:\n",
        "    k_accuracy[k] = []\n",
        "    for index in range(num_folds):\n",
        "        X_t = X_train_folds[index]\n",
        "        Y_t = Y_train_folds[index]\n",
        "        \n",
        "        X_tr = np.reshape( np.array(X_train_folds[:index] + X_train_folds[index + 1:]),\n",
        "                                (int(X_train.shape[0] * (num_folds - 1) / num_folds), -1) )\n",
        "        Y_tr = np.reshape(Y_train_folds[:index] + Y_train_folds[index + 1:],\n",
        "                              int(X_train.shape[0] * (num_folds - 1) / num_folds))\n",
        "        \n",
        "        \n",
        "        dists = np.zeros((X_t.shape[0],X_tr.shape[0]))\n",
        "\n",
        "        for i in range(X_t.shape[0]):\n",
        "            dists[i] = np.sum( np.abs(X_tr- X_t[i]), axis=1)        \n",
        "        \n",
        "        y_pred = np.zeros(dists.shape[0])\n",
        "        for i in range(dists.shape[0]):            \n",
        "            closest_y = Y_tr[np.argsort(dists[i, :])[:k]]            \n",
        "            y_pred[i] = np.argmax(np.bincount(closest_y))\n",
        "        \n",
        "        \n",
        "        y_t_pred = y_pred\n",
        "        accuracy = np.mean(y_t_pred == Y_t)\n",
        "        k_accuracy[k].append(accuracy)\n",
        "       \n",
        "for k, accuracylist in k_accuracy.items():\n",
        "    for accuracy in accuracylist:\n",
        "        print(\"k = %d, accuracy = %.3f\" % (k, accuracy))"
      ],
      "metadata": {
        "colab": {
          "base_uri": "https://localhost:8080/"
        },
        "id": "HtdGmyj3bUvU",
        "outputId": "3d537124-f4aa-4591-8f11-c08041746a5f"
      },
      "execution_count": 44,
      "outputs": [
        {
          "output_type": "stream",
          "name": "stdout",
          "text": [
            "k = 1, accuracy = 0.135\n",
            "k = 1, accuracy = 0.155\n",
            "k = 1, accuracy = 0.235\n",
            "k = 1, accuracy = 0.210\n",
            "k = 1, accuracy = 0.245\n",
            "k = 3, accuracy = 0.145\n",
            "k = 3, accuracy = 0.165\n",
            "k = 3, accuracy = 0.205\n",
            "k = 3, accuracy = 0.160\n",
            "k = 3, accuracy = 0.210\n",
            "k = 5, accuracy = 0.110\n",
            "k = 5, accuracy = 0.125\n",
            "k = 5, accuracy = 0.215\n",
            "k = 5, accuracy = 0.190\n",
            "k = 5, accuracy = 0.205\n",
            "k = 8, accuracy = 0.125\n",
            "k = 8, accuracy = 0.135\n",
            "k = 8, accuracy = 0.205\n",
            "k = 8, accuracy = 0.195\n",
            "k = 8, accuracy = 0.150\n",
            "k = 10, accuracy = 0.145\n",
            "k = 10, accuracy = 0.160\n",
            "k = 10, accuracy = 0.205\n",
            "k = 10, accuracy = 0.195\n",
            "k = 10, accuracy = 0.185\n",
            "k = 12, accuracy = 0.135\n",
            "k = 12, accuracy = 0.130\n",
            "k = 12, accuracy = 0.215\n",
            "k = 12, accuracy = 0.190\n",
            "k = 12, accuracy = 0.190\n",
            "k = 15, accuracy = 0.130\n",
            "k = 15, accuracy = 0.140\n",
            "k = 15, accuracy = 0.205\n",
            "k = 15, accuracy = 0.210\n",
            "k = 15, accuracy = 0.210\n",
            "k = 20, accuracy = 0.110\n",
            "k = 20, accuracy = 0.150\n",
            "k = 20, accuracy = 0.210\n",
            "k = 20, accuracy = 0.205\n",
            "k = 20, accuracy = 0.205\n",
            "k = 50, accuracy = 0.115\n",
            "k = 50, accuracy = 0.130\n",
            "k = 50, accuracy = 0.170\n",
            "k = 50, accuracy = 0.190\n",
            "k = 50, accuracy = 0.160\n",
            "k = 100, accuracy = 0.110\n",
            "k = 100, accuracy = 0.125\n",
            "k = 100, accuracy = 0.135\n",
            "k = 100, accuracy = 0.190\n",
            "k = 100, accuracy = 0.120\n"
          ]
        }
      ]
    },
    {
      "cell_type": "code",
      "source": [
        "for k in k_choices:\n",
        "    accuracies = k_accuracy[k]\n",
        "    plt.scatter([k] * len(accuracies), accuracies)\n",
        "mean_accuracy = np.array([np.mean(v) for k, v in sorted(k_accuracy.items())])\n",
        "std_accuracy = np.array([np.std(v) for k, v in sorted(k_accuracy.items())])\n",
        "    \n",
        "plt.errorbar(k_choices,mean_accuracy, yerr=std_accuracy)\n",
        "plt.title('Cross-validation on k')\n",
        "plt.xlabel('k')\n",
        "plt.ylabel('Cross-validation accuracy')\n",
        "plt.show()"
      ],
      "metadata": {
        "colab": {
          "base_uri": "https://localhost:8080/",
          "height": 295
        },
        "id": "AxKyZwH9bWVF",
        "outputId": "44fef51f-8508-44dd-b062-3dc4fe184145"
      },
      "execution_count": 45,
      "outputs": [
        {
          "output_type": "display_data",
          "data": {
            "text/plain": [
              "<Figure size 432x288 with 1 Axes>"
            ],
            "image/png": "[encoded data removed]"
          },
          "metadata": {
            "needs_background": "light"
          }
        }
      ]
    },
    {
      "cell_type": "markdown",
      "source": [
        "l2"
      ],
      "metadata": {
        "id": "K7-ZTo5zbeHj"
      }
    },
    {
      "cell_type": "code",
      "source": [
        "X_train, Y_train = dataTrain[:1000,:] , labelTrain[:1000]"
      ],
      "metadata": {
        "id": "XztSAk5ybaex"
      },
      "execution_count": 55,
      "outputs": []
    },
    {
      "cell_type": "code",
      "source": [
        "num_folds = 5\n",
        "k_choices = [1, 3, 5, 8, 10, 12, 15, 20, 50, 100]\n",
        "k_accuracy = {}\n",
        "X_train_folds = np.array_split(X_train, num_folds)\n",
        "y_train_folds = np.array_split(Y_train, num_folds)\n",
        "print(\"length of x_train_folds\", len(X_train_folds))\n",
        "print(\"X_train shape\", type(X_train[0]))\n",
        "print(\"X_train len\", X_train_folds[0].shape)"
      ],
      "metadata": {
        "colab": {
          "base_uri": "https://localhost:8080/"
        },
        "id": "hiweDCXJbgdg",
        "outputId": "dc49224b-00db-4f4e-fd8b-9606e60bf657"
      },
      "execution_count": 52,
      "outputs": [
        {
          "output_type": "stream",
          "name": "stdout",
          "text": [
            "length of x_train_folds 5\n",
            "X_train shape <class 'numpy.ndarray'>\n",
            "X_train len (200, 3072)\n"
          ]
        }
      ]
    },
    {
      "cell_type": "code",
      "source": [
        "for k in k_choices:\n",
        "    k_accuracy[k] = []\n",
        "    for index in range(num_folds):\n",
        "        X_t = X_train_folds[index]\n",
        "        Y_t = y_train_folds[index]\n",
        "        \n",
        "        X_tr = np.reshape( np.array(X_train_folds[:index] + X_train_folds[index + 1:]),\n",
        "                                (int(X_train.shape[0] * (num_folds - 1) / num_folds), -1) )\n",
        "        Y_tr = np.reshape(y_train_folds[:index] + y_train_folds[index + 1:],\n",
        "                              int(X_train.shape[0] * (num_folds - 1) / num_folds))\n",
        "        \n",
        "        \n",
        "        \n",
        "        \n",
        "        dists = np.zeros((X_t.shape[0], X_tr.shape[0]))\n",
        "\n",
        "        value_2xy = np.multiply(X_t.dot(X_tr.T), -2)\n",
        "        value_x2 = np.sum(np.square(X_t), axis=1, keepdims=True)\n",
        "        value_y2 = np.sum(np.square(X_tr), axis=1)\n",
        "        dists = value_2xy + value_x2 + value_y2   \n",
        "            \n",
        "            \n",
        "            \n",
        "            \n",
        "        \n",
        "        y_pred = np.zeros(dists.shape[0])\n",
        "        for i in range(dists.shape[0]):            \n",
        "            closest_y = Y_tr[np.argsort(dists[i, :])[:k]]            \n",
        "            y_pred[i] = np.argmax(np.bincount(closest_y))\n",
        "        \n",
        "        \n",
        "        y_t_pred = y_pred\n",
        "        accuracy = np.mean(y_t_pred == Y_t)\n",
        "        k_accuracy[k].append(accuracy)\n",
        "       \n",
        "for k, accuracylist in k_accuracy.items():\n",
        "    for accuracy in accuracylist:\n",
        "        print(\"k = %d, accuracy = %.3f\" % (k, accuracy))"
      ],
      "metadata": {
        "colab": {
          "base_uri": "https://localhost:8080/"
        },
        "id": "wi2MCYxBbntM",
        "outputId": "ebc0237f-0b4a-424f-fbd2-c4b8982fd033"
      },
      "execution_count": 53,
      "outputs": [
        {
          "output_type": "stream",
          "name": "stdout",
          "text": [
            "k = 1, accuracy = 0.110\n",
            "k = 1, accuracy = 0.055\n",
            "k = 1, accuracy = 0.115\n",
            "k = 1, accuracy = 0.140\n",
            "k = 1, accuracy = 0.125\n",
            "k = 3, accuracy = 0.070\n",
            "k = 3, accuracy = 0.105\n",
            "k = 3, accuracy = 0.110\n",
            "k = 3, accuracy = 0.140\n",
            "k = 3, accuracy = 0.085\n",
            "k = 5, accuracy = 0.070\n",
            "k = 5, accuracy = 0.105\n",
            "k = 5, accuracy = 0.110\n",
            "k = 5, accuracy = 0.140\n",
            "k = 5, accuracy = 0.085\n",
            "k = 8, accuracy = 0.070\n",
            "k = 8, accuracy = 0.105\n",
            "k = 8, accuracy = 0.110\n",
            "k = 8, accuracy = 0.140\n",
            "k = 8, accuracy = 0.085\n",
            "k = 10, accuracy = 0.070\n",
            "k = 10, accuracy = 0.105\n",
            "k = 10, accuracy = 0.110\n",
            "k = 10, accuracy = 0.140\n",
            "k = 10, accuracy = 0.085\n",
            "k = 12, accuracy = 0.070\n",
            "k = 12, accuracy = 0.105\n",
            "k = 12, accuracy = 0.110\n",
            "k = 12, accuracy = 0.140\n",
            "k = 12, accuracy = 0.085\n",
            "k = 15, accuracy = 0.070\n",
            "k = 15, accuracy = 0.105\n",
            "k = 15, accuracy = 0.105\n",
            "k = 15, accuracy = 0.060\n",
            "k = 15, accuracy = 0.085\n",
            "k = 20, accuracy = 0.070\n",
            "k = 20, accuracy = 0.140\n",
            "k = 20, accuracy = 0.105\n",
            "k = 20, accuracy = 0.060\n",
            "k = 20, accuracy = 0.085\n",
            "k = 50, accuracy = 0.070\n",
            "k = 50, accuracy = 0.105\n",
            "k = 50, accuracy = 0.105\n",
            "k = 50, accuracy = 0.060\n",
            "k = 50, accuracy = 0.085\n",
            "k = 100, accuracy = 0.070\n",
            "k = 100, accuracy = 0.105\n",
            "k = 100, accuracy = 0.110\n",
            "k = 100, accuracy = 0.060\n",
            "k = 100, accuracy = 0.085\n"
          ]
        }
      ]
    },
    {
      "cell_type": "code",
      "source": [
        "for k in k_choices:\n",
        "    accuracies = k_accuracy[k]\n",
        "    plt.scatter([k] * len(accuracies), accuracies)\n",
        "mean_accuracy = np.array([np.mean(v) for k, v in sorted(k_accuracy.items())])\n",
        "std_accuracy = np.array([np.std(v) for k, v in sorted(k_accuracy.items())])\n",
        "    \n",
        "plt.errorbar(k_choices, mean_accuracy, yerr=std_accuracy)\n",
        "plt.title('Cross-validation on k')\n",
        "plt.xlabel('k')\n",
        "plt.ylabel('Cross-validation accuracy')\n",
        "plt.show()"
      ],
      "metadata": {
        "colab": {
          "base_uri": "https://localhost:8080/",
          "height": 295
        },
        "id": "xfXtaLdYbrO2",
        "outputId": "7cc375c9-92b5-4f11-c6fa-29732de35f39"
      },
      "execution_count": 54,
      "outputs": [
        {
          "output_type": "display_data",
          "data": {
            "text/plain": [
              "<Figure size 432x288 with 1 Axes>"
            ],
            "image/png": "[encoded data removed]"
          },
          "metadata": {
            "needs_background": "light"
          }
        }
      ]
    }
  ]
}